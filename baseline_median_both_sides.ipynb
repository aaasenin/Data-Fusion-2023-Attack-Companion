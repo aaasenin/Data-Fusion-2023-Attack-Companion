{
 "cells": [
  {
   "cell_type": "code",
   "execution_count": 1,
   "id": "ec03da0f",
   "metadata": {},
   "outputs": [],
   "source": [
    "import json\n",
    "from pathlib import Path\n",
    "import numpy as np\n",
    "import pandas as pd\n",
    "from tqdm import tqdm\n",
    "import random\n",
    "from model import predict # Функция, позволяет получить предсказание нейронки.\n",
    "from check_budget import check_budget # функция проверки бюджета. Проверяйте допустимость решения до сабмита"
   ]
  },
  {
   "cell_type": "code",
   "execution_count": 2,
   "id": "25e376fc",
   "metadata": {},
   "outputs": [],
   "source": [
    "bins_path = \"nn_bins.pickle\" # путь до файла с бинами после тренировки модели (nn_bins.pickle)\n",
    "model_path = \"nn_weights.ckpt\" # путь до файла с весами нейронной сети (nn_weights.ckpt)\n",
    "quantiles_path = \"quantiles.json\" # путь до файла с квантилями для таргета (quantiles.pickle)\n",
    "BUDGET = 10 # разрешенное количество изменений транзакций для каждого пользователя\n",
    "\n",
    "output_path = \"train_changed.csv\" # куда сохранить атакованные транзакции\n",
    "transactions_path = \"../../transactions_finetune.csv\"    # путь до файла с транзакциями, которые атакуются"
   ]
  },
  {
   "cell_type": "code",
   "execution_count": 22,
   "id": "56fe7310",
   "metadata": {},
   "outputs": [
    {
     "name": "stderr",
     "output_type": "stream",
     "text": [
      "Global seed set to 20230206\n"
     ]
    },
    {
     "data": {
      "text/html": [
       "<div>\n",
       "<style scoped>\n",
       "    .dataframe tbody tr th:only-of-type {\n",
       "        vertical-align: middle;\n",
       "    }\n",
       "\n",
       "    .dataframe tbody tr th {\n",
       "        vertical-align: top;\n",
       "    }\n",
       "\n",
       "    .dataframe thead th {\n",
       "        text-align: right;\n",
       "    }\n",
       "</style>\n",
       "<table border=\"1\" class=\"dataframe\">\n",
       "  <thead>\n",
       "    <tr style=\"text-align: right;\">\n",
       "      <th></th>\n",
       "      <th>user_id</th>\n",
       "      <th>target</th>\n",
       "    </tr>\n",
       "  </thead>\n",
       "  <tbody>\n",
       "    <tr>\n",
       "      <th>0</th>\n",
       "      <td>69</td>\n",
       "      <td>0.014768</td>\n",
       "    </tr>\n",
       "    <tr>\n",
       "      <th>1</th>\n",
       "      <td>140</td>\n",
       "      <td>0.140376</td>\n",
       "    </tr>\n",
       "    <tr>\n",
       "      <th>2</th>\n",
       "      <td>196</td>\n",
       "      <td>0.039746</td>\n",
       "    </tr>\n",
       "    <tr>\n",
       "      <th>3</th>\n",
       "      <td>400</td>\n",
       "      <td>0.009377</td>\n",
       "    </tr>\n",
       "    <tr>\n",
       "      <th>4</th>\n",
       "      <td>544</td>\n",
       "      <td>0.048174</td>\n",
       "    </tr>\n",
       "  </tbody>\n",
       "</table>\n",
       "</div>"
      ],
      "text/plain": [
       "   user_id    target\n",
       "0       69  0.014768\n",
       "1      140  0.140376\n",
       "2      196  0.039746\n",
       "3      400  0.009377\n",
       "4      544  0.048174"
      ]
     },
     "execution_count": 22,
     "metadata": {},
     "output_type": "execute_result"
    }
   ],
   "source": [
    "# у нас нет разметки для тех транзакций, которые мы атакуем - но у нас есть модель.\n",
    "# Давайте посчитаем вероятность того, что пользователь принадлежит к классу 1\n",
    "result = predict(transactions_path, bins_path, model_path, random_seed=20230206)\n",
    "result.head()"
   ]
  },
  {
   "cell_type": "code",
   "execution_count": 5,
   "id": "d4d03970",
   "metadata": {},
   "outputs": [
    {
     "data": {
      "text/plain": [
       "count    7080.000000\n",
       "mean        0.043170\n",
       "std         0.052960\n",
       "min         0.000331\n",
       "25%         0.009206\n",
       "50%         0.022457\n",
       "75%         0.054486\n",
       "max         0.424275\n",
       "Name: target, dtype: float64"
      ]
     },
     "execution_count": 5,
     "metadata": {},
     "output_type": "execute_result"
    }
   ],
   "source": [
    "result[\"target\"].describe()"
   ]
  },
  {
   "cell_type": "code",
   "execution_count": 6,
   "id": "0e3c1476",
   "metadata": {},
   "outputs": [],
   "source": [
    "# давайте в качестве порога использовать середину этого диапазона\n",
    "# все что выше - пусть будет предсказано 1, что ниже - 0\n",
    "threshold = result.target.median()"
   ]
  },
  {
   "cell_type": "code",
   "execution_count": 7,
   "id": "e5dd2989",
   "metadata": {},
   "outputs": [
    {
     "data": {
      "text/plain": [
       "469439"
      ]
     },
     "execution_count": 7,
     "metadata": {},
     "output_type": "execute_result"
    }
   ],
   "source": [
    "# Найдем пользователя, для которого нейронка предсказала самое большое значение таргета.\n",
    "# Это будет наш Герой, Образцовый Положительный Пользователь\n",
    "hero_user = result.user_id.loc[result.target.argmax()]\n",
    "hero_user"
   ]
  },
  {
   "cell_type": "code",
   "execution_count": 8,
   "id": "54c2e2c4",
   "metadata": {},
   "outputs": [
    {
     "data": {
      "text/plain": [
       "753340"
      ]
     },
     "execution_count": 8,
     "metadata": {},
     "output_type": "execute_result"
    }
   ],
   "source": [
    "# Найдем так пользователя с самым низким таргетом\n",
    "# Это будет наш Неудачник\n",
    "poor_user = result.user_id.loc[result.target.argmin()]\n",
    "poor_user"
   ]
  },
  {
   "cell_type": "code",
   "execution_count": 11,
   "id": "8c405017",
   "metadata": {},
   "outputs": [],
   "source": [
    "# границы допустимых решений.\n",
    "\n",
    "with open(quantiles_path, 'r') as f:\n",
    "    quantiles = json.load(f)"
   ]
  },
  {
   "cell_type": "code",
   "execution_count": 12,
   "id": "c3cc04d2",
   "metadata": {},
   "outputs": [
    {
     "data": {
      "text/plain": [
       "(8.145073890686035, 45117.69001)"
      ]
     },
     "execution_count": 12,
     "metadata": {},
     "output_type": "execute_result"
    }
   ],
   "source": [
    "# для каждого кода заданы лимиты положительных и отрифательных значений\n",
    "# Вот, например, диапазон, в котором должны лежать суммы для ьcc_code 4111\n",
    "quantiles[\"positive\"][\"min\"][\"4111\"], quantiles[\"positive\"][\"max\"][\"4111\"]"
   ]
  },
  {
   "cell_type": "code",
   "execution_count": 13,
   "id": "5269d843",
   "metadata": {},
   "outputs": [],
   "source": [
    "# Читаем файл с исходными транзакциями\n",
    "df_transactions = (\n",
    "    pd.read_csv(\n",
    "        transactions_path,\n",
    "        parse_dates=[\"transaction_dttm\"],\n",
    "        dtype={\"user_id\": int, \"mcc_code\": int, \"currency_rk\": int, \"transaction_amt\": float},\n",
    "    )\n",
    ")"
   ]
  },
  {
   "cell_type": "code",
   "execution_count": 14,
   "id": "0fdfe2c1",
   "metadata": {},
   "outputs": [
    {
     "name": "stderr",
     "output_type": "stream",
     "text": [
      "Global seed set to 20230206\n",
      "100%|██████████| 7080/7080 [00:33<00:00, 214.09it/s]\n"
     ]
    }
   ],
   "source": [
    "random.seed(20230206)\n",
    "\n",
    "#threshold = pd.read_csv(\"../data/target_finetune.csv\").target.mean()  # вероятность, по которой мы считаем таргет\n",
    "\n",
    "df_transactions = pd.read_csv(\n",
    "    transactions_path,\n",
    "    parse_dates=[\"transaction_dttm\"],\n",
    "    dtype={\"user_id\": int, \"mcc_code\": int, \"currency_rk\": int, \"transaction_amt\": float},\n",
    ")\n",
    "\n",
    "bins_path = \"nn_bins.pickle\"\n",
    "model_path = \"nn_weights.ckpt\"\n",
    "target = predict(transactions_path, bins_path, model_path)\n",
    "\n",
    "\n",
    "one_idx = target.index[target.target > threshold]  # Эти пользователи похожи на Героя\n",
    "zero_idx = target.index[target.target <= threshold] # А эти на Неудачника\n",
    "\n",
    "users = target.user_id.values\n",
    "\n",
    "one_users = users[one_idx]\n",
    "zero_users = users[zero_idx]\n",
    "\n",
    "for user in tqdm(users):\n",
    "    if user in one_users:\n",
    "        copy_from = poor_user # похожим на Героя скопируем 10 последних транзакций Неудачника\n",
    "    else:\n",
    "        copy_from = hero_user # А похожим на Неудачника наоборот\n",
    "\n",
    "    idx_to = df_transactions.index[df_transactions.user_id == user][-BUDGET // 2:]\n",
    "    idx_from = df_transactions.index[df_transactions.user_id == copy_from][-BUDGET // 2:]\n",
    "    sign_to = np.sign(df_transactions.loc[idx_to, \"transaction_amt\"].values)\n",
    "    sign_from = np.sign(df_transactions.loc[idx_from, \"transaction_amt\"].values)\n",
    "    sign_mask = (sign_to == sign_from)\n",
    "    df_transactions.loc[idx_to[sign_mask], \"mcc_code\"] = df_transactions.loc[idx_from[sign_mask], \"mcc_code\"].values\n",
    "    df_transactions.loc[idx_to[sign_mask], \"transaction_amt\"] = df_transactions.loc[idx_from[sign_mask], \"transaction_amt\"].values\n",
    "    \n",
    "    idx_to = df_transactions.index[df_transactions.user_id == user][:BUDGET // 2]\n",
    "    idx_from = df_transactions.index[df_transactions.user_id == copy_from][:BUDGET // 2]\n",
    "    sign_to = np.sign(df_transactions.loc[idx_to, \"transaction_amt\"].values)\n",
    "    sign_from = np.sign(df_transactions.loc[idx_from, \"transaction_amt\"].values)\n",
    "    sign_mask = (sign_to == sign_from)\n",
    "    df_transactions.loc[idx_to[sign_mask], \"mcc_code\"] = df_transactions.loc[idx_from[sign_mask], \"mcc_code\"].values\n",
    "    df_transactions.loc[idx_to[sign_mask], \"transaction_amt\"] = df_transactions.loc[idx_from[sign_mask], \"transaction_amt\"].values\n",
    "df_transactions.to_csv(output_path, index=False)\n"
   ]
  },
  {
   "cell_type": "code",
   "execution_count": null,
   "id": "7dbc90e6",
   "metadata": {},
   "outputs": [],
   "source": []
  },
  {
   "cell_type": "code",
   "execution_count": 15,
   "id": "6dbdeff5",
   "metadata": {},
   "outputs": [
    {
     "name": "stderr",
     "output_type": "stream",
     "text": [
      "100%|██████████| 2124000/2124000 [00:41<00:00, 51520.34it/s]\n"
     ]
    },
    {
     "data": {
      "text/plain": [
       "True"
      ]
     },
     "execution_count": 15,
     "metadata": {},
     "output_type": "execute_result"
    }
   ],
   "source": [
    "check_budget(transactions_path, output_path, quantiles_path) # Не забываем проверять бюджет перед самбитом!"
   ]
  }
 ],
 "metadata": {
  "kernelspec": {
   "display_name": "Python 3 (ipykernel)",
   "language": "python",
   "name": "python3"
  },
  "language_info": {
   "codemirror_mode": {
    "name": "ipython",
    "version": 3
   },
   "file_extension": ".py",
   "mimetype": "text/x-python",
   "name": "python",
   "nbconvert_exporter": "python",
   "pygments_lexer": "ipython3",
   "version": "3.8.15"
  }
 },
 "nbformat": 4,
 "nbformat_minor": 5
}
